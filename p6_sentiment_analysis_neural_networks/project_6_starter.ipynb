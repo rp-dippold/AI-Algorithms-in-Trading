{
 "cells": [
  {
   "cell_type": "markdown",
   "metadata": {},
   "source": [
    "# Project 6: Analyzing Stock Sentiment from Twits\n",
    "## Instructions\n",
    "Each problem consists of a function to implement and instructions on how to implement the function.  The parts of the function that need to be implemented are marked with a `# TODO` comment.\n",
    "\n",
    "## Packages\n",
    "When you implement the functions, you'll only need to you use the packages you've used in the classroom, like [Pandas](https://pandas.pydata.org/) and [Numpy](http://www.numpy.org/). These packages will be imported for you. We recommend you don't add any import statements, otherwise the grader might not be able to run your code.\n",
    "\n",
    "### Load Packages"
   ]
  },
  {
   "cell_type": "code",
   "execution_count": 1,
   "metadata": {},
   "outputs": [],
   "source": [
    "import json\n",
    "import nltk\n",
    "import os\n",
    "import random\n",
    "import re\n",
    "import torch\n",
    "import zipfile\n",
    "\n",
    "from torch import nn, optim\n",
    "import torch.nn.functional as F\n",
    "import numpy as np"
   ]
  },
  {
   "cell_type": "markdown",
   "metadata": {},
   "source": [
    "## Introduction\n",
    "When deciding the value of a company, it's important to follow the news. For example, a product recall or natural disaster in a company's product chain. You want to be able to turn this information into a signal. Currently, the best tool for the job is a Neural Network. \n",
    "\n",
    "For this project, you'll use posts from the social media site [StockTwits](https://en.wikipedia.org/wiki/StockTwits). The community on StockTwits is full of investors, traders, and entrepreneurs. Each message posted is called a Twit. This is similar to Twitter's version of a post, called a Tweet. You'll build a model around these twits that generate a sentiment score.\n",
    "\n",
    "We've collected a bunch of twits, then hand labeled the sentiment of each. To capture the degree of sentiment, we'll use a five-point scale: very negative, negative, neutral, positive, very positive. Each twit is labeled -2 to 2 in steps of 1, from very negative to very positive respectively. You'll build a sentiment analysis model that will learn to assign sentiment to twits on its own, using this labeled data.\n",
    "\n",
    "The first thing we should to do, is load the data.\n",
    "\n",
    "## Import Twits \n",
    "### Load Twits Data \n",
    "This JSON file contains a list of objects for each twit in the `'data'` field:\n",
    "\n",
    "```\n",
    "{'data':\n",
    "  {'message_body': 'Neutral twit body text here',\n",
    "   'sentiment': 0},\n",
    "  {'message_body': 'Happy twit body text here',\n",
    "   'sentiment': 1},\n",
    "   ...\n",
    "}\n",
    "```\n",
    "\n",
    "The fields represent the following:\n",
    "\n",
    "* `'message_body'`: The text of the twit.\n",
    "* `'sentiment'`: Sentiment score for the twit, ranges from -2 to 2 in steps of 1, with 0 being neutral.\n",
    "\n",
    "\n",
    "To see what the data look like by printing the first 10 twits from the list. "
   ]
  },
  {
   "cell_type": "code",
   "execution_count": 2,
   "metadata": {},
   "outputs": [
    {
     "name": "stdout",
     "output_type": "stream",
     "text": [
      "[{'message_body': '$FITB great buy at 26.00...ill wait', 'sentiment': 2, 'timestamp': '2018-07-01T00:00:09Z'}, {'message_body': '@StockTwits $MSFT', 'sentiment': 1, 'timestamp': '2018-07-01T00:00:42Z'}, {'message_body': '#STAAnalystAlert for $TDG : Jefferies Maintains with a rating of Hold setting target price at USD 350.00. Our own verdict is Buy  http://www.stocktargetadvisor.com/toprating', 'sentiment': 2, 'timestamp': '2018-07-01T00:01:24Z'}, {'message_body': '$AMD I heard there’s a guy who knows someone who thinks somebody knows something - on StockTwits.', 'sentiment': 1, 'timestamp': '2018-07-01T00:01:47Z'}, {'message_body': '$AMD reveal yourself!', 'sentiment': 0, 'timestamp': '2018-07-01T00:02:13Z'}, {'message_body': '$AAPL Why the drop? I warren Buffet taking out his position?', 'sentiment': 1, 'timestamp': '2018-07-01T00:03:10Z'}, {'message_body': '$BA bears have 1 reason on 06-29 to pay more attention https://dividendbot.com?s=BA', 'sentiment': -2, 'timestamp': '2018-07-01T00:04:09Z'}, {'message_body': '$BAC ok good we&#39;re not dropping in price over the weekend, lol', 'sentiment': 1, 'timestamp': '2018-07-01T00:04:17Z'}, {'message_body': '$AMAT - Daily Chart, we need to get back to above 50.', 'sentiment': 2, 'timestamp': '2018-07-01T00:08:01Z'}, {'message_body': '$GME 3% drop per week after spike... if no news in 3 months, back to 12s... if BO, then bingo... what is the odds?', 'sentiment': -2, 'timestamp': '2018-07-01T00:09:03Z'}]\n"
     ]
    }
   ],
   "source": [
    "#with open(os.path.join('..', 'data', 'project_6_stocktwits', 'twits.json'), 'r') as f:\n",
    "#    twits = json.load(f)\n",
    "\n",
    "fname = os.path.join('..', 'data', 'project_6_stocktwits', 'twits.zip')\n",
    "with zipfile.ZipFile(fname) as myzip:\n",
    "    for filename in myzip.namelist():\n",
    "        if filename.endswith('.json'):\n",
    "            twits = json.load(myzip.open(filename))\n",
    "\n",
    "print(twits['data'][:10])"
   ]
  },
  {
   "cell_type": "markdown",
   "metadata": {},
   "source": [
    "### Length of Data\n",
    "Now let's look at the number of twits in dataset. Print the number of twits below."
   ]
  },
  {
   "cell_type": "code",
   "execution_count": 3,
   "metadata": {},
   "outputs": [
    {
     "name": "stdout",
     "output_type": "stream",
     "text": [
      "Number of twits: 1548010\n"
     ]
    }
   ],
   "source": [
    "\"\"\"print out the number of twits\"\"\"\n",
    "\n",
    "print(f'Number of twits: {len(twits[\"data\"])}')"
   ]
  },
  {
   "cell_type": "markdown",
   "metadata": {},
   "source": [
    "### Split Message Body and Sentiment Score"
   ]
  },
  {
   "cell_type": "code",
   "execution_count": 4,
   "metadata": {},
   "outputs": [],
   "source": [
    "messages = [twit['message_body'] for twit in twits['data']]\n",
    "# Since the sentiment scores are discrete, we'll scale the sentiments to 0 to 4 for use in our network\n",
    "sentiments = [twit['sentiment'] + 2 for twit in twits['data']]"
   ]
  },
  {
   "cell_type": "markdown",
   "metadata": {},
   "source": [
    "## Preprocessing the Data\n",
    "With our data in hand we need to preprocess our text. These twits are collected by filtering on ticker symbols where these are denoted with a leader $ symbol in the twit itself. For example,\n",
    "\n",
    "`{'message_body': 'RT @google Our annual look at the year in Google blogging (and beyond) http://t.co/sptHOAh8 $GOOG',\n",
    " 'sentiment': 0}`\n",
    "\n",
    "The ticker symbols don't provide information on the sentiment, and they are in every twit, so we should remove them. This twit also has the `@google` username, again not providing sentiment information, so we should also remove it. We also see a URL `http://t.co/sptHOAh8`. Let's remove these too.\n",
    "\n",
    "The easiest way to remove specific words or phrases is with regex using the `re` module. You can sub out specific patterns with a space:\n",
    "\n",
    "```python\n",
    "re.sub(pattern, ' ', text)\n",
    "```\n",
    "This will substitute a space with anywhere the pattern matches in the text. Later when we tokenize the text, we'll split appropriately on those spaces."
   ]
  },
  {
   "cell_type": "markdown",
   "metadata": {},
   "source": [
    "### Pre-Processing"
   ]
  },
  {
   "cell_type": "code",
   "execution_count": 5,
   "metadata": {},
   "outputs": [
    {
     "name": "stdout",
     "output_type": "stream",
     "text": [
      "[nltk_data] Downloading package wordnet to /home/pdippold/nltk_data...\n",
      "[nltk_data]   Package wordnet is already up-to-date!\n"
     ]
    }
   ],
   "source": [
    "nltk.download('wordnet')\n",
    "\n",
    "\n",
    "def preprocess(message):\n",
    "    \"\"\"\n",
    "    This function takes a string as input, then performs these operations: \n",
    "        - lowercase\n",
    "        - remove URLs\n",
    "        - remove ticker symbols \n",
    "        - removes punctuation\n",
    "        - tokenize by splitting the string on whitespace \n",
    "        - removes any single character tokens\n",
    "    \n",
    "    Parameters\n",
    "    ----------\n",
    "        message : The text message to be preprocessed.\n",
    "        \n",
    "    Returns\n",
    "    -------\n",
    "        tokens: The preprocessed text into tokens.\n",
    "    \"\"\" \n",
    "\n",
    "    # Lowercase the twit message\n",
    "    text = message.lower()\n",
    "    \n",
    "    # Replace URLs with a space in the message\n",
    "    text = re.sub(r'(http|https):\\/\\/[\\w\\$-_\\.\\+!\\*\\'\\(\\),/&?=:%]+', ' ', text)\n",
    "    \n",
    "    # Replace ticker symbols with a space. The ticker symbols are any stock symbol that starts with $.\n",
    "    text = re.sub(r'\\$\\w+', ' ', text)\n",
    "    \n",
    "    # Replace StockTwits usernames with a space. The usernames are any word that starts with @.\n",
    "    text = re.sub(r'@\\w+', ' ', text)\n",
    "\n",
    "    # Replace everything not a letter with a space\n",
    "    text = re.sub(r'[^a-zA-Z]', ' ', text)\n",
    "    \n",
    "    # Tokenize by splitting the string on whitespace into a list of words\n",
    "    tokens = text.split()\n",
    "\n",
    "    # Lemmatize words using the WordNetLemmatizer. You can ignore any word that is not longer than one character.\n",
    "    wnl = nltk.stem.WordNetLemmatizer()\n",
    "    lemmatized = []\n",
    "    for t in tokens:\n",
    "        lem_t = wnl.lemmatize(t)\n",
    "        if len(lem_t) > 1:\n",
    "            lemmatized.append(lem_t)\n",
    "\n",
    "    assert type(lemmatized) == list, 'Tokens should be list'\n",
    "    return lemmatized"
   ]
  },
  {
   "cell_type": "markdown",
   "metadata": {},
   "source": [
    ">Note: You must ensure that after preprocessing the text should NOT include:\n",
    "- Numbers\n",
    "- URLs\n",
    "- Single character tokens\n",
    "- Ticker symbols (these should be removed even if they don't appear at the beginning)"
   ]
  },
  {
   "cell_type": "markdown",
   "metadata": {},
   "source": [
    "### Preprocess All the Twits \n",
    "Now we can preprocess each of the twits in our dataset. Apply the function `preprocess` to all the twit messages."
   ]
  },
  {
   "cell_type": "code",
   "execution_count": 6,
   "metadata": {},
   "outputs": [],
   "source": [
    "# Preprocess all twits\n",
    "tokenized = [preprocess(message) for message in messages]"
   ]
  },
  {
   "cell_type": "markdown",
   "metadata": {},
   "source": [
    "### Bag of Words\n",
    "Now with all of our messages tokenized, we want to create a vocabulary and count up how often each word appears in our entire corpus. Use the [`Counter`](https://docs.python.org/3.1/library/collections.html#collections.Counter) function to count up all the tokens."
   ]
  },
  {
   "cell_type": "code",
   "execution_count": 7,
   "metadata": {},
   "outputs": [],
   "source": [
    "from collections import Counter\n",
    "\n",
    "\"\"\"\n",
    "Create a vocabulary by using Bag of words\n",
    "\"\"\"\n",
    "bow = Counter()\n",
    "for tokens in tokenized:\n",
    "    bow.update(tokens)"
   ]
  },
  {
   "cell_type": "markdown",
   "metadata": {},
   "source": [
    "### Frequency of Words Appearing in Message\n",
    "With our vocabulary, now we'll remove some of the most common words such as 'the', 'and', 'it', etc. These words don't contribute to identifying sentiment and are really common, resulting in a lot of noise in our input. If we can filter these out, then our network should have an easier time learning.\n",
    "\n",
    "We also want to remove really rare words that show up in a only a few twits. Here you'll want to divide the count of each word by the **number of messages** calculated in the code block above (i.e. `len(messages))`. Then remove words that only appear in some small fraction of the messages.\n",
    "\n",
    ">Note: There is not an exact number for low and high-frequency cut-offs, however there is a correct optimal range.\n",
    "You should ideally set up low-frequency cut-off from 0.0000002 to 0.000007 (inclusive) and high-frequency from 5 to 20 (inclusive). If the number is too big, we lose lots of important words that we can use in our data."
   ]
  },
  {
   "cell_type": "code",
   "execution_count": 8,
   "metadata": {},
   "outputs": [
    {
     "name": "stdout",
     "output_type": "stream",
     "text": [
      "[('the', 0.25763270263112), ('to', 0.24516831286619595), ('is', 0.18403627883540805), ('for', 0.17671009877197175), ('on', 0.1561204384984593)]\n"
     ]
    },
    {
     "data": {
      "text/plain": [
       "99274"
      ]
     },
     "execution_count": 8,
     "metadata": {},
     "output_type": "execute_result"
    }
   ],
   "source": [
    "\"\"\"\n",
    "Set the following variables:\n",
    "    freqs\n",
    "    low_cutoff\n",
    "    high_cutoff\n",
    "    K_most_common\n",
    "\"\"\"\n",
    "\n",
    "# Dictionary that contains the frequency of words appearing in messages.\n",
    "# The key is the token and the value is the frequency of that word in the corpus.\n",
    "freqs = Counter({token: count/len(messages) for token, count in bow.items()})\n",
    "\n",
    "# Float that is the frequency cutoff. Drop words with a frequency that is lower or equal to this number.\n",
    "low_cutoff = 2e-7\n",
    "\n",
    "# Integer that is the cut off for most common words. Drop words that are the `high_cutoff` most common words.\n",
    "high_cutoff = 5\n",
    "\n",
    "# The k most common words in the corpus. Use `high_cutoff` as the k.\n",
    "K_most_common = freqs.most_common(high_cutoff)\n",
    "\n",
    "filtered_words = [word for word in freqs if (freqs[word] > low_cutoff and word not in K_most_common)]\n",
    "print(K_most_common)\n",
    "len(filtered_words) "
   ]
  },
  {
   "cell_type": "markdown",
   "metadata": {},
   "source": [
    "### Updating Vocabulary by Removing Filtered Words\n",
    "Let's creat three variables that will help with our vocabulary."
   ]
  },
  {
   "cell_type": "code",
   "execution_count": 9,
   "metadata": {},
   "outputs": [],
   "source": [
    "\"\"\"\n",
    "Set the following variables:\n",
    "    vocab\n",
    "    id2vocab\n",
    "    filtered\n",
    "\"\"\"\n",
    "\n",
    "# A dictionary for the `filtered_words`. The key is the word and value is an id that represents the word. \n",
    "vocab = {w: ii for ii, w in enumerate(filtered_words, 1)}\n",
    "# Reverse of the `vocab` dictionary. The key is word id and value is the word. \n",
    "id2vocab = {ii: w for w, ii in vocab.items()}\n",
    "# tokenized with the words not in `filtered_words` removed.\n",
    "filtered = [[word for word in message if word in vocab] for message in tokenized]\n",
    "\n",
    "assert set(vocab.keys()) == set(id2vocab.values()), 'Check vocab and id2vocab dictionaries'"
   ]
  },
  {
   "cell_type": "markdown",
   "metadata": {},
   "source": [
    "### Balancing the classes\n",
    "Let's do a few last pre-processing steps. If we look at how our twits are labeled, we'll find that 50% of them are neutral. This means that our network will be 50% accurate just by guessing 0 every single time. To help our network learn appropriately, we'll want to balance our classes.\n",
    "That is, make sure each of our different sentiment scores show up roughly as frequently in the data.\n",
    "\n",
    "What we can do here is go through each of our examples and randomly drop twits with neutral sentiment. What should be the probability we drop these twits if we want to get around 20% neutral twits starting at 50% neutral? We should also take this opportunity to remove messages with length 0."
   ]
  },
  {
   "cell_type": "code",
   "execution_count": 10,
   "metadata": {},
   "outputs": [],
   "source": [
    "balanced = {'messages': [], 'sentiments':[]}\n",
    "\n",
    "n_neutral = sum(1 for each in sentiments if each == 2)\n",
    "N_examples = len(sentiments)\n",
    "keep_prob = (N_examples - n_neutral)/4/n_neutral\n",
    "\n",
    "for idx, sentiment in enumerate(sentiments):\n",
    "    message = filtered[idx]\n",
    "    if len(message) == 0:\n",
    "        # skip this message because it has length zero\n",
    "        continue\n",
    "    elif sentiment != 2 or random.random() < keep_prob:\n",
    "        balanced['messages'].append(message)\n",
    "        balanced['sentiments'].append(sentiment) "
   ]
  },
  {
   "cell_type": "markdown",
   "metadata": {},
   "source": [
    "If you did it correctly, you should see the following result "
   ]
  },
  {
   "cell_type": "code",
   "execution_count": 11,
   "metadata": {},
   "outputs": [
    {
     "data": {
      "text/plain": [
       "0.19465436984436835"
      ]
     },
     "execution_count": 11,
     "metadata": {},
     "output_type": "execute_result"
    }
   ],
   "source": [
    "n_neutral = sum(1 for each in balanced['sentiments'] if each == 2)\n",
    "N_examples = len(balanced['sentiments'])\n",
    "n_neutral/N_examples"
   ]
  },
  {
   "cell_type": "markdown",
   "metadata": {},
   "source": [
    "Finally let's convert our tokens into integer ids which we can pass to the network."
   ]
  },
  {
   "cell_type": "code",
   "execution_count": 12,
   "metadata": {},
   "outputs": [],
   "source": [
    "token_ids = [[vocab[word] for word in message] for message in balanced['messages']]\n",
    "sentiments = balanced['sentiments']"
   ]
  },
  {
   "cell_type": "markdown",
   "metadata": {},
   "source": [
    "## Neural Network\n",
    "Now we have our vocabulary which means we can transform our tokens into ids, which are then passed to our network. So, let's define the network now!\n",
    "\n",
    "Here is a nice diagram showing the network we'd like to build: \n",
    "\n",
    "#### Embed -> RNN -> Dense -> Softmax\n",
    "### Implement the text classifier\n",
    "Before we build text classifier, if you remember from the other network that you built in  \"Sentiment Analysis with an RNN\"  exercise  - which there, the network called \" SentimentRNN\", here we named it \"TextClassifer\" - consists of three main parts: 1) init function `__init__` 2) forward pass `forward`  3) hidden state `init_hidden`. \n",
    "\n",
    "This network is pretty similar to the network you built expect in the  `forward` pass, we use softmax instead of sigmoid. The reason we are not using sigmoid is that the output of NN is not a binary. In our network, sentiment scores have 5 possible outcomes. We are looking for an outcome with the highest probability thus softmax is a better choice."
   ]
  },
  {
   "cell_type": "code",
   "execution_count": 13,
   "metadata": {},
   "outputs": [],
   "source": [
    "class TextClassifier(nn.Module):\n",
    "    def __init__(self, vocab_size, embed_size, lstm_size, output_size, lstm_layers=1, dropout=0.1):\n",
    "        \"\"\"\n",
    "        Initialize the model by setting up the layers.\n",
    "        \n",
    "        Parameters\n",
    "        ----------\n",
    "            vocab_size : The vocabulary size.\n",
    "            embed_size : The embedding layer size.\n",
    "            lstm_size : The LSTM layer size.\n",
    "            output_size : The output size.\n",
    "            lstm_layers : The number of LSTM layers.\n",
    "            dropout : The dropout probability.\n",
    "        \"\"\"\n",
    "        \n",
    "        super().__init__()\n",
    "        self.vocab_size = vocab_size\n",
    "        self.embed_size = embed_size\n",
    "        self.lstm_size = lstm_size\n",
    "        self.output_size = output_size\n",
    "        self.lstm_layers = lstm_layers\n",
    "        self.dropout = dropout\n",
    "        \n",
    "        # Setup embedding layer\n",
    "        self.embedding = nn.Embedding(vocab_size, embed_size)\n",
    "        \n",
    "        # Setup additional layers\n",
    "        self.lstm = nn.LSTM(embed_size, self.lstm_size, self.lstm_layers,\n",
    "                            batch_first=False, dropout=self.dropout)\n",
    "        self.dropout = nn.Dropout(self.dropout)\n",
    "        self.fc = nn.Linear(self.lstm_size, self.output_size)\n",
    "\n",
    "\n",
    "    def init_hidden(self, batch_size):\n",
    "        \"\"\" \n",
    "        Initializes hidden state\n",
    "        \n",
    "        Parameters\n",
    "        ----------\n",
    "            batch_size : The size of batches.\n",
    "        \n",
    "        Returns\n",
    "        -------\n",
    "            hidden_state\n",
    "            \n",
    "        \"\"\"\n",
    "        \n",
    "        # Create two new tensors with sizes lstm_layers x batch_size x lstm_size,\n",
    "        # initialized to zero, for hidden state and cell state of LSTM\n",
    "        weight = next(self.parameters()).data\n",
    "        hidden = (weight.new_zeros(self.lstm_layers, batch_size, self.lstm_size),\n",
    "                  weight.new_zeros(self.lstm_layers, batch_size, self.lstm_size))\n",
    "        return hidden\n",
    "\n",
    "\n",
    "    def forward(self, nn_input, hidden_state):\n",
    "        \"\"\"\n",
    "        Perform a forward pass of our model on nn_input.\n",
    "        \n",
    "        Parameters\n",
    "        ----------\n",
    "            nn_input : The batch of input to the NN.\n",
    "            hidden_state : The LSTM hidden state.\n",
    "\n",
    "        Returns\n",
    "        -------\n",
    "            logps: log softmax output\n",
    "            hidden_state: The new hidden state.\n",
    "\n",
    "        \"\"\"\n",
    "        x = nn_input.permute(1,0) # reshape to get the batch to dim 0\n",
    "        x = self.embedding(nn_input)\n",
    "        x, hidden = self.lstm(x, hidden_state)\n",
    "        x = x[-1, :, :] # getting the last time step output\n",
    "        x = self.dropout(x)\n",
    "        x = self.fc(x)\n",
    "        output = F.log_softmax(x, dim=1)\n",
    "        \n",
    "        return output, hidden"
   ]
  },
  {
   "cell_type": "markdown",
   "metadata": {},
   "source": [
    "### View Model"
   ]
  },
  {
   "cell_type": "code",
   "execution_count": 14,
   "metadata": {},
   "outputs": [
    {
     "name": "stdout",
     "output_type": "stream",
     "text": [
      "tensor([[-1.5690, -2.0820, -1.4428, -1.3775, -1.7227],\n",
      "        [-1.7176, -2.1311, -1.3430, -1.3704, -1.6781],\n",
      "        [-1.6024, -2.1508, -1.3952, -1.3149, -1.7963],\n",
      "        [-1.5804, -2.0842, -1.4252, -1.3454, -1.7792]],\n",
      "       grad_fn=<LogSoftmaxBackward0>)\n"
     ]
    }
   ],
   "source": [
    "model = TextClassifier(len(vocab), 10, 6, 5, dropout=0.1, lstm_layers=2)\n",
    "model.embedding.weight.data.uniform_(-1, 1)\n",
    "input = torch.randint(0, 1000, (5, 4), dtype=torch.int64)\n",
    "hidden = model.init_hidden(4)\n",
    "\n",
    "logps, _ = model.forward(input, hidden)\n",
    "print(logps)"
   ]
  },
  {
   "cell_type": "markdown",
   "metadata": {},
   "source": [
    "## Training\n",
    "### DataLoaders and Batching\n",
    "Now we should build a generator that we can use to loop through our data. It'll be more efficient if we can pass our sequences in as batches. Our input tensors should look like `(sequence_length, batch_size)`. So if our sequences are 40 tokens long and we pass in 25 sequences, then we'd have an input size of `(40, 25)`.\n",
    "\n",
    "If we set our sequence length to 40, what do we do with messages that are more or less than 40 tokens? For messages with fewer than 40 tokens, we will pad the empty spots with zeros. We should be sure to **left** pad so that the RNN starts from nothing before going through the data. If the message has 20 tokens, then the first 20 spots of our 40 long sequence will be 0. If a message has more than 40 tokens, we'll just keep the first 40 tokens."
   ]
  },
  {
   "cell_type": "code",
   "execution_count": 15,
   "metadata": {},
   "outputs": [],
   "source": [
    "def dataloader(messages, labels, sequence_length=30, batch_size=32, shuffle=False):\n",
    "    \"\"\" \n",
    "    Build a dataloader.\n",
    "    \"\"\"\n",
    "    if shuffle:\n",
    "        indices = list(range(len(messages)))\n",
    "        random.shuffle(indices)\n",
    "        messages = [messages[idx] for idx in indices]\n",
    "        labels = [labels[idx] for idx in indices]\n",
    "\n",
    "    # return only full batches\n",
    "    num_full_batches = len(messages) // batch_size\n",
    "    max_idx = num_full_batches * batch_size\n",
    "    messages = messages[:max_idx]\n",
    "    labels = labels[:max_idx]\n",
    "    total_sequences = len(messages)\n",
    "\n",
    "    for ii in range(0, total_sequences, batch_size):\n",
    "        batch_messages = messages[ii: ii+batch_size]\n",
    "        \n",
    "        # First initialize a tensor of all zeros\n",
    "        batch = torch.zeros((sequence_length, len(batch_messages)), dtype=torch.int64)\n",
    "        for batch_num, tokens in enumerate(batch_messages):\n",
    "            token_tensor = torch.tensor(tokens)\n",
    "            # Left pad!\n",
    "            start_idx = max(sequence_length - len(token_tensor), 0)\n",
    "            batch[start_idx:, batch_num] = token_tensor[:sequence_length]\n",
    "        label_tensor = torch.tensor(labels[ii: ii+len(batch_messages)])\n",
    "        \n",
    "        yield batch, label_tensor"
   ]
  },
  {
   "cell_type": "markdown",
   "metadata": {},
   "source": [
    "### Training and  Validation\n",
    "With our data in nice shape, we'll split it into training and validation sets."
   ]
  },
  {
   "cell_type": "code",
   "execution_count": 16,
   "metadata": {},
   "outputs": [],
   "source": [
    "\"\"\"\n",
    "Split data into training and validation datasets. Use an appropriate split size.\n",
    "The features are the `token_ids` and the labels are the `sentiments`.\n",
    "\"\"\"   \n",
    "split_idx = int(len(token_ids)*0.9)\n",
    "train_features = token_ids[:split_idx]\n",
    "valid_features = token_ids[split_idx:]\n",
    "train_labels = sentiments[:split_idx]\n",
    "valid_labels = sentiments[split_idx:]"
   ]
  },
  {
   "cell_type": "code",
   "execution_count": 17,
   "metadata": {},
   "outputs": [],
   "source": [
    "text_batch, labels = next(iter(dataloader(train_features, train_labels, sequence_length=20, batch_size=64)))\n",
    "text_batch = text_batch\n",
    "model = TextClassifier(len(vocab)+1, 200, 128, 5, dropout=0.)\n",
    "hidden = model.init_hidden(64)\n",
    "logps, hidden = model.forward(text_batch, hidden)"
   ]
  },
  {
   "cell_type": "markdown",
   "metadata": {},
   "source": [
    "### Training\n",
    "It's time to train the neural network!"
   ]
  },
  {
   "cell_type": "code",
   "execution_count": 18,
   "metadata": {},
   "outputs": [
    {
     "name": "stdout",
     "output_type": "stream",
     "text": [
      "User cuda device.\n"
     ]
    },
    {
     "data": {
      "text/plain": [
       "TextClassifier(\n",
       "  (embedding): Embedding(99275, 784)\n",
       "  (lstm): LSTM(784, 1024, num_layers=2, dropout=0.2)\n",
       "  (dropout): Dropout(p=0.2, inplace=False)\n",
       "  (fc): Linear(in_features=1024, out_features=5, bias=True)\n",
       ")"
      ]
     },
     "execution_count": 18,
     "metadata": {},
     "output_type": "execute_result"
    }
   ],
   "source": [
    "device = torch.device(\"cuda\" if torch.cuda.is_available() else \"cpu\")\n",
    "print(f'User {device} device.')\n",
    "\n",
    "model = TextClassifier(len(vocab)+1, 784, 1024, 5, lstm_layers=2, dropout=0.2)\n",
    "model.embedding.weight.data.uniform_(-0.5, 0.5)\n",
    "model.to(device)"
   ]
  },
  {
   "cell_type": "code",
   "execution_count": 19,
   "metadata": {},
   "outputs": [
    {
     "name": "stdout",
     "output_type": "stream",
     "text": [
      "Starting epoch 1\n",
      "Epoch: 1/3...  Step: 100...  Loss: 1.062703...  Valid Loss: 1.059996...  Valid Accuracy: 57.938\n",
      "Epoch: 1/3...  Step: 200...  Loss: 0.877123...  Valid Loss: 0.935597...  Valid Accuracy: 63.619\n",
      "Epoch: 1/3...  Step: 300...  Loss: 0.870843...  Valid Loss: 0.884587...  Valid Accuracy: 65.014\n",
      "Epoch: 1/3...  Step: 400...  Loss: 0.791059...  Valid Loss: 0.846038...  Valid Accuracy: 67.251\n",
      "Epoch: 1/3...  Step: 500...  Loss: 0.785155...  Valid Loss: 0.799552...  Valid Accuracy: 68.835\n",
      "Epoch: 1/3...  Step: 600...  Loss: 0.734225...  Valid Loss: 0.776929...  Valid Accuracy: 70.601\n",
      "Epoch: 1/3...  Step: 700...  Loss: 0.730264...  Valid Loss: 0.771725...  Valid Accuracy: 70.579\n",
      "Epoch: 1/3...  Step: 800...  Loss: 0.688225...  Valid Loss: 0.750345...  Valid Accuracy: 71.433\n",
      "Epoch: 1/3...  Step: 900...  Loss: 0.622013...  Valid Loss: 0.738477...  Valid Accuracy: 72.032\n",
      "Epoch: 1/3...  Step: 1000...  Loss: 0.658201...  Valid Loss: 0.733197...  Valid Accuracy: 71.922\n",
      "Epoch: 1/3...  Step: 1100...  Loss: 0.695907...  Valid Loss: 0.731986...  Valid Accuracy: 71.889\n",
      "Epoch: 1/3...  Step: 1200...  Loss: 0.698907...  Valid Loss: 0.720689...  Valid Accuracy: 72.587\n",
      "Epoch: 1/3...  Step: 1300...  Loss: 0.656617...  Valid Loss: 0.711246...  Valid Accuracy: 73.165\n",
      "Epoch: 1/3...  Step: 1400...  Loss: 0.610673...  Valid Loss: 0.707124...  Valid Accuracy: 73.286\n",
      "Epoch: 1/3...  Step: 1500...  Loss: 0.712230...  Valid Loss: 0.711163...  Valid Accuracy: 73.183\n",
      "Epoch: 1/3...  Step: 1600...  Loss: 0.581572...  Valid Loss: 0.699605...  Valid Accuracy: 73.587\n",
      "Epoch: 1/3...  Step: 1700...  Loss: 0.659386...  Valid Loss: 0.702244...  Valid Accuracy: 73.273\n",
      "Epoch: 1/3...  Step: 1800...  Loss: 0.632221...  Valid Loss: 0.692819...  Valid Accuracy: 73.983\n",
      "Starting epoch 2\n",
      "Epoch: 2/3...  Step: 100...  Loss: 0.624709...  Valid Loss: 0.701465...  Valid Accuracy: 73.296\n",
      "Epoch: 2/3...  Step: 200...  Loss: 0.626039...  Valid Loss: 0.696486...  Valid Accuracy: 73.619\n",
      "Epoch: 2/3...  Step: 300...  Loss: 0.660450...  Valid Loss: 0.696587...  Valid Accuracy: 73.698\n",
      "Epoch: 2/3...  Step: 400...  Loss: 0.615858...  Valid Loss: 0.691390...  Valid Accuracy: 73.743\n",
      "Epoch: 2/3...  Step: 500...  Loss: 0.621963...  Valid Loss: 0.691183...  Valid Accuracy: 73.797\n",
      "Epoch: 2/3...  Step: 600...  Loss: 0.616704...  Valid Loss: 0.688437...  Valid Accuracy: 73.988\n",
      "Epoch: 2/3...  Step: 700...  Loss: 0.570012...  Valid Loss: 0.681320...  Valid Accuracy: 73.901\n",
      "Epoch: 2/3...  Step: 800...  Loss: 0.658414...  Valid Loss: 0.679162...  Valid Accuracy: 74.260\n",
      "Epoch: 2/3...  Step: 900...  Loss: 0.634222...  Valid Loss: 0.680806...  Valid Accuracy: 74.309\n",
      "Epoch: 2/3...  Step: 1000...  Loss: 0.555582...  Valid Loss: 0.682254...  Valid Accuracy: 74.120\n",
      "Epoch: 2/3...  Step: 1100...  Loss: 0.581804...  Valid Loss: 0.674440...  Valid Accuracy: 74.193\n",
      "Epoch: 2/3...  Step: 1200...  Loss: 0.615170...  Valid Loss: 0.680211...  Valid Accuracy: 74.261\n",
      "Epoch: 2/3...  Step: 1300...  Loss: 0.565942...  Valid Loss: 0.670595...  Valid Accuracy: 74.557\n",
      "Epoch: 2/3...  Step: 1400...  Loss: 0.679271...  Valid Loss: 0.675173...  Valid Accuracy: 74.294\n",
      "Epoch: 2/3...  Step: 1500...  Loss: 0.665774...  Valid Loss: 0.675814...  Valid Accuracy: 74.382\n",
      "Epoch: 2/3...  Step: 1600...  Loss: 0.581486...  Valid Loss: 0.670052...  Valid Accuracy: 74.674\n",
      "Epoch: 2/3...  Step: 1700...  Loss: 0.604298...  Valid Loss: 0.668543...  Valid Accuracy: 74.800\n",
      "Epoch: 2/3...  Step: 1800...  Loss: 0.589204...  Valid Loss: 0.670299...  Valid Accuracy: 74.359\n",
      "Starting epoch 3\n",
      "Epoch: 3/3...  Step: 100...  Loss: 0.547138...  Valid Loss: 0.691545...  Valid Accuracy: 74.387\n",
      "Epoch: 3/3...  Step: 200...  Loss: 0.508631...  Valid Loss: 0.686936...  Valid Accuracy: 73.994\n",
      "Epoch: 3/3...  Step: 300...  Loss: 0.585995...  Valid Loss: 0.685503...  Valid Accuracy: 74.260\n",
      "Epoch: 3/3...  Step: 400...  Loss: 0.606458...  Valid Loss: 0.692570...  Valid Accuracy: 74.194\n",
      "Epoch: 3/3...  Step: 500...  Loss: 0.546103...  Valid Loss: 0.689528...  Valid Accuracy: 73.580\n",
      "Epoch: 3/3...  Step: 600...  Loss: 0.562471...  Valid Loss: 0.679967...  Valid Accuracy: 74.513\n",
      "Epoch: 3/3...  Step: 700...  Loss: 0.553845...  Valid Loss: 0.688427...  Valid Accuracy: 74.126\n",
      "Epoch: 3/3...  Step: 800...  Loss: 0.484699...  Valid Loss: 0.683207...  Valid Accuracy: 74.174\n",
      "Epoch: 3/3...  Step: 900...  Loss: 0.506725...  Valid Loss: 0.683226...  Valid Accuracy: 74.225\n",
      "Epoch: 3/3...  Step: 1000...  Loss: 0.554560...  Valid Loss: 0.682259...  Valid Accuracy: 74.353\n",
      "Epoch: 3/3...  Step: 1100...  Loss: 0.601078...  Valid Loss: 0.678446...  Valid Accuracy: 74.187\n",
      "Epoch: 3/3...  Step: 1200...  Loss: 0.527921...  Valid Loss: 0.677586...  Valid Accuracy: 74.499\n",
      "Epoch: 3/3...  Step: 1300...  Loss: 0.536899...  Valid Loss: 0.678657...  Valid Accuracy: 74.361\n",
      "Epoch: 3/3...  Step: 1400...  Loss: 0.539717...  Valid Loss: 0.684118...  Valid Accuracy: 74.365\n",
      "Epoch: 3/3...  Step: 1500...  Loss: 0.519847...  Valid Loss: 0.674889...  Valid Accuracy: 74.538\n",
      "Epoch: 3/3...  Step: 1600...  Loss: 0.499745...  Valid Loss: 0.674188...  Valid Accuracy: 74.505\n",
      "Epoch: 3/3...  Step: 1700...  Loss: 0.568725...  Valid Loss: 0.673268...  Valid Accuracy: 74.432\n",
      "Epoch: 3/3...  Step: 1800...  Loss: 0.561073...  Valid Loss: 0.676534...  Valid Accuracy: 74.108\n"
     ]
    }
   ],
   "source": [
    "\"\"\"\n",
    "Train your model with dropout. Make sure to clip your gradients.\n",
    "Print the training loss, validation loss, and validation accuracy for every 100 steps.\n",
    "\"\"\"\n",
    "\n",
    "epochs = 3\n",
    "batch_size = 512\n",
    "learning_rate = 0.001\n",
    "clip=4 # gradient clipping\n",
    "\n",
    "print_every = 100\n",
    "criterion = nn.NLLLoss()\n",
    "optimizer = optim.Adam(model.parameters(), lr=learning_rate, eps=1e-6)\n",
    "model.train()\n",
    "\n",
    "for epoch in range(epochs):\n",
    "    print('Starting epoch {}'.format(epoch + 1))\n",
    "    \n",
    "    steps = 0\n",
    "    for text_batch, labels in dataloader(\n",
    "            train_features, train_labels, batch_size=batch_size, sequence_length=30, shuffle=True):\n",
    "        steps += 1\n",
    "        hidden = model.init_hidden(batch_size)\n",
    "        \n",
    "        # set device\n",
    "        text_batch, labels = text_batch.to(device), labels.to(device)\n",
    "        for each in hidden:\n",
    "            each.to(device)\n",
    "        \n",
    "        # zero accumulated gradients\n",
    "        optimizer.zero_grad()\n",
    "\n",
    "        # get the output from the model\n",
    "        output, _ = model(text_batch, hidden)\n",
    "\n",
    "        # calculate the loss and perform backprop\n",
    "        loss = criterion(output, labels)\n",
    "        loss.backward()\n",
    "        # `clip_grad_norm` helps prevent the exploding gradient problem in RNNs / LSTMs.\n",
    "        nn.utils.clip_grad_norm_(model.parameters(), clip)\n",
    "        optimizer.step()\n",
    "        \n",
    "        if steps % print_every == 0:\n",
    "            # get validation loss and accuracy\n",
    "            valid_losses = []\n",
    "            eq_list = []\n",
    "            model.eval()\n",
    "            for text_batch, labels in dataloader(\n",
    "                valid_features, valid_labels, batch_size=batch_size, sequence_length=30, shuffle=True):\n",
    "                valid_hidden = model.init_hidden(batch_size)\n",
    "                # set device\n",
    "                text_batch, labels = text_batch.to(device), labels.to(device)\n",
    "                for each in hidden:\n",
    "                    each.to(device)\n",
    "\n",
    "                output, _ = model(text_batch, valid_hidden)\n",
    "                valid_loss = criterion(output, labels)\n",
    "                valid_losses.append(valid_loss.item())\n",
    "                # collect data to calculate validation accuracy\n",
    "                top_p, top_class = torch.exp(output).topk(1, dim=1)\n",
    "                equals = top_class == labels.view(*top_class.shape).to(device)\n",
    "                eq_list.append(equals.view(-1))\n",
    "                \n",
    "            # calculate validation accuracy    \n",
    "            accuracy = torch.mean(torch.cat(eq_list, dim=0).type(torch.FloatTensor)) \n",
    "            model.train()\n",
    "            print(f'Epoch: {epoch+1}/{epochs}... ',\n",
    "                  f'Step: {steps}... ',\n",
    "                  f'Loss: {loss.item():.6f}... ',\n",
    "                  f'Valid Loss: {np.mean(valid_losses):.6f}... ',\n",
    "                  f'Valid Accuracy: {accuracy*100:.3f}')"
   ]
  },
  {
   "cell_type": "markdown",
   "metadata": {},
   "source": [
    "## Making Predictions\n",
    "### Prediction \n",
    "Okay, now that you have a trained model, try it on some new twits and see if it works appropriately. Remember that for any new text, you'll need to preprocess it first before passing it to the network. Implement the `predict` function to generate the prediction vector from a message."
   ]
  },
  {
   "cell_type": "code",
   "execution_count": 20,
   "metadata": {},
   "outputs": [],
   "source": [
    "def predict(text, model, vocab):\n",
    "    \"\"\" \n",
    "    Make a prediction on a single sentence.\n",
    "\n",
    "    Parameters\n",
    "    ----------\n",
    "        text : The string to make a prediction on.\n",
    "        model : The model to use for making the prediction.\n",
    "        vocab : Dictionary for word to word ids. The key is the word and the value is the word id.\n",
    "\n",
    "    Returns\n",
    "    -------\n",
    "        pred : Prediction vector\n",
    "    \"\"\"\n",
    "    \n",
    "    # Process several preprocessing steps to the text\n",
    "    tokens = preprocess(text)\n",
    "    # Filter non-vocab words\n",
    "    tokens = [word for word in tokens if word in vocab]\n",
    "    # Check if there are any tokens left to predict the sentiment class\n",
    "    if (len(tokens) < 1):\n",
    "        return torch.ones(1, 5)*(-1)\n",
    "\n",
    "    # Convert words to ids\n",
    "    tokens = [vocab[word] for word in tokens]\n",
    "        \n",
    "    # Adding a batch dimension\n",
    "    text_input = torch.tensor(tokens).unsqueeze(1)\n",
    "    # Get the NN output\n",
    "    hidden = model.init_hidden(1)\n",
    "    logps, _ = model(text_input, hidden)\n",
    "    # Take the exponent of the NN output to get a range of 0 to 1 for each label.\n",
    "    pred = torch.exp(logps)\n",
    "    \n",
    "    return pred"
   ]
  },
  {
   "cell_type": "code",
   "execution_count": 21,
   "metadata": {},
   "outputs": [
    {
     "data": {
      "text/plain": [
       "tensor([[    0.000038,     0.007864,     0.004313,     0.845940,     0.141844]],\n",
       "       grad_fn=<ExpBackward0>)"
      ]
     },
     "execution_count": 21,
     "metadata": {},
     "output_type": "execute_result"
    }
   ],
   "source": [
    "torch.set_printoptions(precision=6, sci_mode=False)\n",
    "text = \"Google is working on self driving cars, I'm bullish on $goog\"\n",
    "model.eval()\n",
    "model.to(\"cpu\")\n",
    "predict(text, model, vocab)"
   ]
  },
  {
   "cell_type": "markdown",
   "metadata": {},
   "source": [
    "### Questions: What is the prediction of the model? What is the uncertainty of the prediction?\n",
    "\n",
    "**Answer**: The model returns the log probability of each sentiment class (five values). By exposing the log probabilites the predict function returns class probabilities which can be taken to select the most probable sentiment class. In the example text above the model predicts class 4, i.e. the second best sentiment, which corresponds quite good to the meaning of the twit.\n",
    "\n",
    "The probability of 84.6% for sentiment 4 is quite hight, i.e. the model is pretty sure that the twit belongs to this class. But the result may be less clear for other twits. Thus, I might be reasonable to specify a threshold, e.g. 65%, and if the probabilities of all classes are below this value, the model might predict \"not sure\"."
   ]
  },
  {
   "cell_type": "markdown",
   "metadata": {},
   "source": [
    "Now we have a trained model and we can make predictions. We can use this model to track the sentiments of various stocks by predicting the sentiments of twits as they are coming in. Now we have a stream of twits. For each of those twits, pull out the stocks mentioned in them and keep track of the sentiments. Remember that in the twits, ticker symbols are encoded with a dollar sign as the first character, all caps, and 2-4 letters, like $AAPL. Ideally, you'd want to track the sentiments of the stocks in your universe and use this as a signal in your larger model(s).\n",
    "\n",
    "## Testing\n",
    "### Load the Data "
   ]
  },
  {
   "cell_type": "code",
   "execution_count": 22,
   "metadata": {},
   "outputs": [],
   "source": [
    "with open(os.path.join('..', 'data', 'project_6_stocktwits', 'test_twits.json'), 'r') as f:\n",
    "    test_data = json.load(f)"
   ]
  },
  {
   "cell_type": "markdown",
   "metadata": {},
   "source": [
    "### Twit Stream"
   ]
  },
  {
   "cell_type": "code",
   "execution_count": 23,
   "metadata": {},
   "outputs": [
    {
     "data": {
      "text/plain": [
       "{'message_body': '$JWN has moved -1.69% on 10-31. Check out the movement and peers at  https://dividendbot.com?s=JWN',\n",
       " 'timestamp': '2018-11-01T00:00:05Z'}"
      ]
     },
     "execution_count": 23,
     "metadata": {},
     "output_type": "execute_result"
    }
   ],
   "source": [
    "def twit_stream():\n",
    "    for twit in test_data['data']:\n",
    "        yield twit\n",
    "\n",
    "next(twit_stream())"
   ]
  },
  {
   "cell_type": "markdown",
   "metadata": {},
   "source": [
    "Using the `prediction` function, let's apply it to a stream of twits."
   ]
  },
  {
   "cell_type": "code",
   "execution_count": 24,
   "metadata": {},
   "outputs": [],
   "source": [
    "def score_twits(stream, model, vocab, universe):\n",
    "    \"\"\" \n",
    "    Given a stream of twits and a universe of tickers, return sentiment scores for tickers in the universe.\n",
    "    \"\"\"\n",
    "    for twit in stream:\n",
    "\n",
    "        # Get the message text\n",
    "        text = twit['message_body']\n",
    "        symbols = re.findall('\\$[A-Z]{2,4}', text)\n",
    "        score = predict(text, model, vocab)\n",
    "\n",
    "        for symbol in symbols:\n",
    "            if symbol in universe:\n",
    "                yield {'symbol': symbol, 'score': score, 'timestamp': twit['timestamp']}"
   ]
  },
  {
   "cell_type": "code",
   "execution_count": 25,
   "metadata": {},
   "outputs": [
    {
     "name": "stdout",
     "output_type": "stream",
     "text": [
      "$AAPL: Sentiment score for twit on 2018-11-01T00:00:18Z is 4\n",
      "$AMZN: Sentiment score for twit on 2018-11-01T00:00:42Z is 3\n",
      "$AAPL: Sentiment score for twit on 2018-11-01T00:00:55Z is 2\n",
      "$MU: Sentiment score for twit on 2018-11-01T00:02:10Z is 4\n",
      "$AMZN: Sentiment score for twit on 2018-11-01T00:03:35Z is 2\n",
      "$MU: Sentiment score for twit on 2018-11-01T00:04:21Z is 2\n",
      "$AAPL: Sentiment score for twit on 2018-11-01T00:05:40Z is 2\n",
      "$AAPL: Sentiment score for twit on 2018-11-01T00:07:32Z is 3\n",
      "$AMZN: Sentiment score for twit on 2018-11-01T00:07:32Z is 3\n",
      "$GOOG: Sentiment score for twit on 2018-11-01T00:07:32Z is 3\n",
      "$FB: Sentiment score for twit on 2018-11-01T00:08:52Z is 4\n",
      "$MU: Sentiment score for twit on 2018-11-01T00:08:56Z is 2\n",
      "$FB: Sentiment score for twit on 2018-11-01T00:09:31Z is 3\n",
      "Not enough information in twit for $AAPL to determine sentiment!\n",
      "$AAPL: Sentiment score for twit on 2018-11-01T00:10:17Z is 2\n",
      "$AAPL: Sentiment score for twit on 2018-11-01T00:11:02Z is 4\n",
      "$MU: Sentiment score for twit on 2018-11-01T00:11:02Z is 4\n",
      "$AAPL: Sentiment score for twit on 2018-11-01T00:11:26Z is 2\n",
      "$AAPL: Sentiment score for twit on 2018-11-01T00:11:40Z is 2\n",
      "$AAPL: Sentiment score for twit on 2018-11-01T00:11:54Z is 2\n"
     ]
    }
   ],
   "source": [
    "universe = {'$BBRY', '$AAPL', '$AMZN', '$BABA', '$YHOO', '$LQMT', '$FB', '$GOOG', '$BBBY', '$JNUG', '$SBUX', '$MU'}\n",
    "score_stream = score_twits(twit_stream(), model, vocab, universe)\n",
    "\n",
    "max_twits = 20\n",
    "for ii, twit_score in enumerate(score_stream, 1):\n",
    "    _, top_class = twit_score[\"score\"].topk(1, dim=1)\n",
    "    if top_class.sum() == 0:\n",
    "        print(f'Not enough information in twit for {twit_score[\"symbol\"]} to determine sentiment!')\n",
    "    else:\n",
    "        print(f'{twit_score[\"symbol\"]}: Sentiment score for twit on', \n",
    "              f'{twit_score[\"timestamp\"]} is {top_class.item()}')\n",
    "    if ii >= max_twits:\n",
    "        break"
   ]
  },
  {
   "cell_type": "markdown",
   "metadata": {},
   "source": [
    "That's it. You have successfully built a model for sentiment analysis! "
   ]
  },
  {
   "cell_type": "markdown",
   "metadata": {},
   "source": [
    "## Submission\n",
    "Now that you're done with the project, it's time to submit it. Click the submit button in the bottom right. One of our reviewers will give you feedback on your project with a pass or not passed grade. You can continue to the next section while you wait for feedback."
   ]
  }
 ],
 "metadata": {
  "kernelspec": {
   "display_name": "ai-trading-gpu",
   "language": "python",
   "name": "aitradinggpu"
  },
  "language_info": {
   "codemirror_mode": {
    "name": "ipython",
    "version": 3
   },
   "file_extension": ".py",
   "mimetype": "text/x-python",
   "name": "python",
   "nbconvert_exporter": "python",
   "pygments_lexer": "ipython3",
   "version": "3.6.3"
  }
 },
 "nbformat": 4,
 "nbformat_minor": 2
}
